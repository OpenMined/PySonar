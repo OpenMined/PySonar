{
 "cells": [
  {
   "cell_type": "markdown",
   "metadata": {},
   "source": [
    "### Imports and Convenience Functions"
   ]
  },
  {
   "cell_type": "code",
   "execution_count": 8,
   "metadata": {},
   "outputs": [
    {
     "name": "stderr",
     "output_type": "stream",
     "text": [
      "\n",
      "Failed to import bitcoin. This is not a fatal error but does\n",
      "mean that you will not be able to determine the address from\n",
      "your wallet file.\n"
     ]
    }
   ],
   "source": [
    "import warnings\n",
    "import numpy as np\n",
    "import phe as paillier\n",
    "from sonar.contracts import ModelRepository,Model\n",
    "from sonar.ipfs import IPFS\n",
    "from syft.he.paillier.keys import KeyPair\n",
    "from syft.nn.linear import LinearClassifier\n",
    "from sklearn.datasets import load_diabetes\n",
    "from sonar.blockchains import connect_ethereum_infura\n",
    "from ethereum.tools.keys import decode_keystore_json\n",
    "import json\n",
    "\n",
    "def get_balance(account):\n",
    "    return repo.web3.fromWei(repo.web3.eth.getBalance(account),'ether')\n",
    "\n",
    "warnings.filterwarnings('ignore')"
   ]
  },
  {
   "cell_type": "markdown",
   "metadata": {},
   "source": [
    "## Setup Settings"
   ]
  },
  {
   "cell_type": "code",
   "execution_count": 10,
   "metadata": {},
   "outputs": [
    {
     "name": "stdout",
     "output_type": "stream",
     "text": [
      "Connected to OpenMined ModelRepository:0xd60e1a150b59a89a8e6e6ff2c03ffb6cb4096205\n"
     ]
    }
   ],
   "source": [
    "# for the purpose of the simulation, we're going to split our dataset up amongst\n",
    "# the relevant simulated users\n",
    "\n",
    "diabetes = load_diabetes()\n",
    "y = diabetes.target\n",
    "X = diabetes.data\n",
    "\n",
    "validation = (X[0:5],y[0:5])\n",
    "anonymous_diabetes_users = (X[6:],y[6:])\n",
    "\n",
    "# we're also going to initialize the model trainer smart contract, which in the\n",
    "# real world would already be on the blockchain (managing other contracts) before\n",
    "# the simulation begins\n",
    "\n",
    "andreas_repo = '0xd60e1a150b59a89a8e6e6ff2c03ffb6cb4096205'\n",
    "stefan_repo = '0xf0DE3D665D777d12609D0524c89C6456A6658E5E'\n",
    "\n",
    "wallet_json = json.loads('{\"address\":\"c6e1d4501d3f354e89f048f096db4424168682a9\",\"crypto\":{\"cipher\":\"aes-128-ctr\",\"ciphertext\":\"739e9d49ebb3191a74817a2f007eec5717c592eb378096ca021d67a8af33e938\",\"cipherparams\":{\"iv\":\"e283943a488e2b906c2bd68a4873a834\"},\"kdf\":\"scrypt\",\"kdfparams\":{\"dklen\":32,\"n\":262144,\"p\":1,\"r\":8,\"salt\":\"3ba0e9f38a1110e1ff257308fcbf89e27f99845b16d83b66ce6b2118f5672d55\"},\"mac\":\"66ba81180c4074d0439698a262b4596736cd568b421868dddf5fab3c99f32d73\"},\"id\":\"137dc832-4196-4fa0-b1f9-895df090071a\",\"version\":3}')\n",
    "wallet = decode_keystore_json(wallet_json,'')\n",
    "\n",
    "# ATTENTION: copy paste the correct address (NOT THE DEFAULT SEEN HERE) from truffle migrate output.\n",
    "repo = ModelRepository(andreas_repo, account=my_wallet_address,ipfs=IPFS(host='https://ipfs.infura.io'), web3=connect_ethereum_infura('CV4Z8Hx9qUUzHq8PGbPP')) # blockchain hosted model repository"
   ]
  },
  {
   "cell_type": "code",
   "execution_count": 33,
   "metadata": {},
   "outputs": [
    {
     "data": {
      "text/plain": [
       "12"
      ]
     },
     "execution_count": 33,
     "metadata": {},
     "output_type": "execute_result"
    }
   ],
   "source": [
    "len(repo)"
   ]
  },
  {
   "cell_type": "markdown",
   "metadata": {},
   "source": [
    "## Step 1: Cure Diabetes Inc Initializes a Model and Provides a Bounty"
   ]
  },
  {
   "cell_type": "code",
   "execution_count": 13,
   "metadata": {
    "collapsed": true
   },
   "outputs": [],
   "source": [
    "pubkey,prikey = KeyPair().generate(n_length=1024)\n",
    "diabetes_classifier = LinearClassifier(desc=\"DiabetesClassifier\",n_inputs=10,n_labels=1)"
   ]
  },
  {
   "cell_type": "code",
   "execution_count": 14,
   "metadata": {
    "collapsed": true
   },
   "outputs": [],
   "source": [
    "initial_error = diabetes_classifier.evaluate(validation[0],validation[1])"
   ]
  },
  {
   "cell_type": "code",
   "execution_count": 15,
   "metadata": {},
   "outputs": [
    {
     "data": {
      "text/plain": [
       "Linear Model (10,1): DiabetesClassifier"
      ]
     },
     "execution_count": 15,
     "metadata": {},
     "output_type": "execute_result"
    }
   ],
   "source": [
    "diabetes_classifier.encrypt(pubkey)"
   ]
  },
  {
   "cell_type": "code",
   "execution_count": 16,
   "metadata": {
    "collapsed": true
   },
   "outputs": [],
   "source": [
    "diabetes_model = Model(owner='0xc6E1D4501D3f354E89F048F096db4424168682a9',\n",
    "                       syft_obj = diabetes_classifier,\n",
    "                       bounty = 0.00000000001,\n",
    "                       initial_error = initial_error,\n",
    "                       target_error = 10000\n",
    "                      )"
   ]
  },
  {
   "cell_type": "code",
   "execution_count": 17,
   "metadata": {
    "collapsed": true
   },
   "outputs": [],
   "source": [
    "# t = repo.get_transaction(my_wallet_address)"
   ]
  },
  {
   "cell_type": "code",
   "execution_count": 32,
   "metadata": {
    "collapsed": true
   },
   "outputs": [],
   "source": [
    "from ethereum.transactions import Transaction"
   ]
  },
  {
   "cell_type": "code",
   "execution_count": 21,
   "metadata": {},
   "outputs": [],
   "source": [
    "tx = Transaction(\n",
    "    nonce=repo.web3.eth.getTransactionCount(my_wallet_address),\n",
    "    gasprice=repo.web3.eth.gasPrice,\n",
    "    startgas=100000,\n",
    "    to=andreas_repo,\n",
    "    value=1,\n",
    "    data=b'',\n",
    ")"
   ]
  },
  {
   "cell_type": "code",
   "execution_count": 22,
   "metadata": {
    "collapsed": true
   },
   "outputs": [],
   "source": [
    "import rlp"
   ]
  },
  {
   "cell_type": "code",
   "execution_count": 23,
   "metadata": {
    "collapsed": true
   },
   "outputs": [],
   "source": [
    "import json "
   ]
  },
  {
   "cell_type": "code",
   "execution_count": 91,
   "metadata": {
    "collapsed": true
   },
   "outputs": [],
   "source": [
    "def get_transaction(self, from_addr, value=None):\n",
    "    \"\"\"I consistently forget the conventions for executing transactions against\n",
    "    compiled contracts. This function helps that to be easier for me.\"\"\"\n",
    "\n",
    "    txn = {}\n",
    "    txn[\"from\"] = from_addr\n",
    "    txn[\"to\"] = self.contract_address\n",
    "\n",
    "    if value is not None:\n",
    "        txn[\"value\"] = int(value)\n",
    "\n",
    "    transact_raw = self.contract.transact(txn)\n",
    "    return transact_raw\n",
    "repo.get_transaction = get_transaction\n",
    "\n",
    "deploy_tx = repo.get_transaction(repo,\n",
    "            model.owner,\n",
    "            value=repo.web3.toWei(model.bounty, 'ether'))"
   ]
  },
  {
   "cell_type": "code",
   "execution_count": 97,
   "metadata": {},
   "outputs": [
    {
     "data": {
      "text/plain": [
       "<Transaction(44d0)>"
      ]
     },
     "execution_count": 97,
     "metadata": {},
     "output_type": "execute_result"
    }
   ],
   "source": [
    "tx"
   ]
  },
  {
   "cell_type": "code",
   "execution_count": 26,
   "metadata": {},
   "outputs": [],
   "source": [
    "signed_tx = tx.sign(wallet)"
   ]
  },
  {
   "cell_type": "code",
   "execution_count": 96,
   "metadata": {},
   "outputs": [
    {
     "data": {
      "text/plain": [
       "<Transaction(44d0)>"
      ]
     },
     "execution_count": 96,
     "metadata": {},
     "output_type": "execute_result"
    }
   ],
   "source": [
    "signed_tx"
   ]
  },
  {
   "cell_type": "code",
   "execution_count": 27,
   "metadata": {
    "collapsed": true
   },
   "outputs": [],
   "source": [
    "raw_tx = rlp.encode(tx)"
   ]
  },
  {
   "cell_type": "code",
   "execution_count": 95,
   "metadata": {},
   "outputs": [
    {
     "data": {
      "text/plain": [
       "b\"\\xf8e\\x1e\\x85\\x17E{\\xf7\\x80\\x83\\x01\\x86\\xa0\\x94\\xd6\\x0e\\x1a\\x15\\x0bY\\xa8\\x9a\\x8eno\\xf2\\xc0?\\xfbl\\xb4\\tb\\x05\\x01\\x80\\x1b\\xa0p\\x08\\xbfB\\x18.\\x14\\xfcWQ%H\\xb1,\\xa0\\xae]'0\\xc8\\x14Yo\\x84+E\\xd55Z\\xf3\\xe8\\xee\\xa0_\\x12\\xb0O'\\xc3\\xba\\x89#\\x81=/\\xdc\\x14 \\x86\\xe2]\\xac\\xf2\\xd6#\\x8f\\x9a\\xc4M\\xa0\\x80\\xf3\\xec\\xffO\""
      ]
     },
     "execution_count": 95,
     "metadata": {},
     "output_type": "execute_result"
    }
   ],
   "source": [
    "raw_tx"
   ]
  },
  {
   "cell_type": "code",
   "execution_count": 29,
   "metadata": {},
   "outputs": [],
   "source": [
    "raw_tx_hex = repo.web3.toHex(raw_tx)"
   ]
  },
  {
   "cell_type": "code",
   "execution_count": 94,
   "metadata": {},
   "outputs": [
    {
     "data": {
      "text/plain": [
       "'0xf8651e8517457bf780830186a094d60e1a150b59a89a8e6e6ff2c03ffb6cb409620501801ba07008bf42182e14fc57512548b12ca0ae5d2730c814596f842b45d5355af3e8eea05f12b04f27c3ba8923813d2fdc142086e25dacf2d6238f9ac44da080f3ecff4f'"
      ]
     },
     "execution_count": 94,
     "metadata": {},
     "output_type": "execute_result"
    }
   ],
   "source": [
    "raw_tx_hex"
   ]
  },
  {
   "cell_type": "code",
   "execution_count": 31,
   "metadata": {},
   "outputs": [
    {
     "data": {
      "text/plain": [
       "'0x44d023dbcb7d617937e7b65c09396fee0f53058e87a4fcd8cf83e3d17bb0094d'"
      ]
     },
     "execution_count": 31,
     "metadata": {},
     "output_type": "execute_result"
    }
   ],
   "source": [
    "repo.web3.eth.sendRawTransaction(raw_tx_hex)"
   ]
  },
  {
   "cell_type": "code",
   "execution_count": 93,
   "metadata": {},
   "outputs": [
    {
     "data": {
      "text/plain": [
       "'0xd60e1a150b59a89a8e6e6ff2c03ffb6cb4096205'"
      ]
     },
     "execution_count": 93,
     "metadata": {},
     "output_type": "execute_result"
    }
   ],
   "source": [
    "andreas_repo"
   ]
  },
  {
   "cell_type": "code",
   "execution_count": 69,
   "metadata": {},
   "outputs": [
    {
     "data": {
      "text/plain": [
       "'0xc6E1D4501D3f354E89F048F096db4424168682a9'"
      ]
     },
     "execution_count": 69,
     "metadata": {},
     "output_type": "execute_result"
    }
   ],
   "source": []
  },
  {
   "cell_type": "code",
   "execution_count": 79,
   "metadata": {},
   "outputs": [
    {
     "data": {
      "text/plain": [
       "<function web3.contract.Contract.transact>"
      ]
     },
     "execution_count": 79,
     "metadata": {},
     "output_type": "execute_result"
    }
   ],
   "source": [
    "repo.contract.transact()"
   ]
  },
  {
   "cell_type": "code",
   "execution_count": 86,
   "metadata": {},
   "outputs": [
    {
     "ename": "TypeError",
     "evalue": "get_transaction() missing 1 required positional argument: 'from_addr'",
     "output_type": "error",
     "traceback": [
      "\u001b[0;31m---------------------------------------------------------------------------\u001b[0m",
      "\u001b[0;31mTypeError\u001b[0m                                 Traceback (most recent call last)",
      "\u001b[0;32m<ipython-input-86-adebce8810e6>\u001b[0m in \u001b[0;36m<module>\u001b[0;34m()\u001b[0m\n\u001b[0;32m----> 1\u001b[0;31m \u001b[0mmodel_id\u001b[0m \u001b[0;34m=\u001b[0m \u001b[0mrepo\u001b[0m\u001b[0;34m.\u001b[0m\u001b[0msubmit_model\u001b[0m\u001b[0;34m(\u001b[0m\u001b[0mdiabetes_model\u001b[0m\u001b[0;34m)\u001b[0m\u001b[0;34m\u001b[0m\u001b[0m\n\u001b[0m",
      "\u001b[0;32m/Users/atrask/anaconda/lib/python3.6/site-packages/sonar-0.1.0-py3.6.egg/sonar/contracts.py\u001b[0m in \u001b[0;36msubmit_model\u001b[0;34m(self, model)\u001b[0m\n\u001b[1;32m    154\u001b[0m         deploy_tx = self.get_transaction(\n\u001b[1;32m    155\u001b[0m             \u001b[0mmodel\u001b[0m\u001b[0;34m.\u001b[0m\u001b[0mowner\u001b[0m\u001b[0;34m,\u001b[0m\u001b[0;34m\u001b[0m\u001b[0m\n\u001b[0;32m--> 156\u001b[0;31m             value=self.web3.toWei(model.bounty, 'ether'))\n\u001b[0m\u001b[1;32m    157\u001b[0m         deploy_tx.addModel(IPFSAddress().to_ethereum(ipfs_address),\n\u001b[1;32m    158\u001b[0m                            model.initial_error, model.target_error)\n",
      "\u001b[0;31mTypeError\u001b[0m: get_transaction() missing 1 required positional argument: 'from_addr'"
     ]
    }
   ],
   "source": [
    "model_id = repo.submit_model(diabetes_model)"
   ]
  },
  {
   "cell_type": "code",
   "execution_count": null,
   "metadata": {
    "collapsed": true
   },
   "outputs": [],
   "source": []
  },
  {
   "cell_type": "code",
   "execution_count": null,
   "metadata": {
    "collapsed": true
   },
   "outputs": [],
   "source": []
  },
  {
   "cell_type": "markdown",
   "metadata": {},
   "source": [
    "## Step 2: An Anonymous Patient Downloads the Model and Improves It"
   ]
  },
  {
   "cell_type": "code",
   "execution_count": 15,
   "metadata": {
    "collapsed": true
   },
   "outputs": [],
   "source": [
    "model_id = 10\n",
    "model = repo[model_id]"
   ]
  },
  {
   "cell_type": "code",
   "execution_count": 16,
   "metadata": {
    "collapsed": true
   },
   "outputs": [],
   "source": [
    "repo[model_id].submit_gradient(my_wallet_address,anonymous_diabetes_users[0][0],anonymous_diabetes_users[0][0])"
   ]
  },
  {
   "cell_type": "markdown",
   "metadata": {},
   "source": [
    "## Step 3: Cure Diabetes Inc. Evaluates the Gradient "
   ]
  },
  {
   "cell_type": "code",
   "execution_count": 17,
   "metadata": {},
   "outputs": [
    {
     "data": {
      "text/plain": [
       "Desc:DiabetesClassifier\n",
       "Owner:0xc6e1d4501d3f354e89f048f096db4424168682a9\n",
       "Bounty:9.999999E-12\n",
       "Initial Error:21802517\n",
       "Best Error:None\n",
       "Target Error:10000\n",
       "Model ID:10\n",
       "Num Grads:0"
      ]
     },
     "execution_count": 17,
     "metadata": {},
     "output_type": "execute_result"
    }
   ],
   "source": [
    "repo[model_id]"
   ]
  },
  {
   "cell_type": "code",
   "execution_count": 18,
   "metadata": {},
   "outputs": [
    {
     "name": "stdout",
     "output_type": "stream",
     "text": [
      "3.709448782750000015\n"
     ]
    }
   ],
   "source": [
    "old_balance = get_balance(my_wallet_address)\n",
    "print(old_balance)"
   ]
  },
  {
   "cell_type": "code",
   "execution_count": 21,
   "metadata": {
    "collapsed": true
   },
   "outputs": [],
   "source": [
    "grad = model[0]"
   ]
  },
  {
   "cell_type": "code",
   "execution_count": 22,
   "metadata": {},
   "outputs": [
    {
     "data": {
      "text/plain": [
       "2"
      ]
     },
     "execution_count": 22,
     "metadata": {},
     "output_type": "execute_result"
    }
   ],
   "source": [
    "grad.id"
   ]
  },
  {
   "cell_type": "code",
   "execution_count": 25,
   "metadata": {
    "collapsed": true
   },
   "outputs": [],
   "source": [
    "model = repo[model_id]"
   ]
  },
  {
   "cell_type": "code",
   "execution_count": 26,
   "metadata": {
    "collapsed": true
   },
   "outputs": [],
   "source": [
    "new_error = model.evaluate_gradient(my_wallet_address,repo[model_id][0],prikey,pubkey,validation[0],validation[1])"
   ]
  },
  {
   "cell_type": "code",
   "execution_count": 27,
   "metadata": {},
   "outputs": [
    {
     "data": {
      "text/plain": [
       "21802481"
      ]
     },
     "execution_count": 27,
     "metadata": {},
     "output_type": "execute_result"
    }
   ],
   "source": [
    "new_error"
   ]
  },
  {
   "cell_type": "code",
   "execution_count": 30,
   "metadata": {},
   "outputs": [
    {
     "name": "stdout",
     "output_type": "stream",
     "text": [
      "-0.001333360000000000\n"
     ]
    }
   ],
   "source": [
    "new_balance = get_balance(my_wallet_address)\n",
    "incentive = new_balance - old_balance\n",
    "print(incentive)"
   ]
  },
  {
   "cell_type": "markdown",
   "metadata": {},
   "source": [
    "## Step 4: Rinse and Repeat"
   ]
  },
  {
   "cell_type": "code",
   "execution_count": 31,
   "metadata": {},
   "outputs": [
    {
     "data": {
      "text/plain": [
       "Desc:DiabetesClassifier\n",
       "Owner:0xc6e1d4501d3f354e89f048f096db4424168682a9\n",
       "Bounty:9.999999E-12\n",
       "Initial Error:21802517\n",
       "Best Error:None\n",
       "Target Error:10000\n",
       "Model ID:10\n",
       "Num Grads:1"
      ]
     },
     "execution_count": 31,
     "metadata": {},
     "output_type": "execute_result"
    }
   ],
   "source": [
    "model"
   ]
  },
  {
   "cell_type": "code",
   "execution_count": 33,
   "metadata": {
    "collapsed": true
   },
   "outputs": [],
   "source": [
    "# for i,(addr, input, target) in enumerate(anonymous_diabetics):\n",
    "#     try:\n",
    "        \n",
    "#         model = repo[model_id]\n",
    "        \n",
    "#         # patient is doing this\n",
    "#         model.submit_gradient(addr,input,target)\n",
    "        \n",
    "#         # Cure Diabetes Inc does this\n",
    "#         old_balance = get_balance(addr)\n",
    "#         new_error = model.evaluate_gradient(cure_diabetes_inc,model[i+1],prikey,pubkey,validation[0],validation[1],alpha=2)\n",
    "#         print(\"new error = \"+str(new_error))\n",
    "#         incentive = round(get_balance(addr) - old_balance,5)\n",
    "#         print(\"incentive = \"+str(incentive))\n",
    "#     except:\n",
    "#         \"Connection Reset\""
   ]
  },
  {
   "cell_type": "code",
   "execution_count": null,
   "metadata": {
    "collapsed": true
   },
   "outputs": [],
   "source": []
  }
 ],
 "metadata": {
  "kernelspec": {
   "display_name": "Python 3",
   "language": "python",
   "name": "python3"
  },
  "language_info": {
   "codemirror_mode": {
    "name": "ipython",
    "version": 3
   },
   "file_extension": ".py",
   "mimetype": "text/x-python",
   "name": "python",
   "nbconvert_exporter": "python",
   "pygments_lexer": "ipython3",
   "version": "3.6.1"
  }
 },
 "nbformat": 4,
 "nbformat_minor": 2
}
